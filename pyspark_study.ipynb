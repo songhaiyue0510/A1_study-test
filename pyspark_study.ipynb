{
 "cells": [
  {
   "cell_type": "markdown",
   "metadata": {},
   "source": [
    "# 注意事项\n",
    "1. 在安装了anaconda之后，需要安装JDK才可以运行，具体教程如下https://blog.csdn.net/zhangwj_001/article/details/79422854"
   ]
  },
  {
   "cell_type": "code",
   "execution_count": 1,
   "metadata": {},
   "outputs": [
    {
     "name": "stdout",
     "output_type": "stream",
     "text": [
      "+---+-------+----+-------+\n",
      "| id|country|hour|clicked|\n",
      "+---+-------+----+-------+\n",
      "|  1|     US|  18|    1.0|\n",
      "|  2|    CA2|   5|    9.1|\n",
      "+---+-------+----+-------+\n",
      "\n"
     ]
    }
   ],
   "source": [
    "from pyspark.sql import SparkSession\n",
    "spark = SparkSession.builder.master(\"local\").getOrCreate()\n",
    "A = spark.createDataFrame([(1,'US',18,1.0),(2,'CA2',5,9.1)],['id','country','hour','clicked'])\n",
    "A.show()"
   ]
  },
  {
   "cell_type": "code",
   "execution_count": 7,
   "metadata": {},
   "outputs": [
    {
     "name": "stdout",
     "output_type": "stream",
     "text": [
      "[Row(id=1, country='US', hour=18, clicked=1.0), Row(id=2, country='CA2', hour=5, clicked=9.1)]\n",
      "schema is ['id', 'country', 'hour', 'clicked']\n",
      "nbr is 2\n"
     ]
    }
   ],
   "source": [
    "print(A.collect()) ## return all records as a list of row\n",
    "print(\"schema is %s\" %A.columns)\n",
    "print(\"nbr is %s\" %A.count()) ## return the number of rows"
   ]
  },
  {
   "cell_type": "code",
   "execution_count": 4,
   "metadata": {},
   "outputs": [
    {
     "name": "stdout",
     "output_type": "stream",
     "text": [
      "+---+---+---+\n",
      "|  1|  2|  3|\n",
      "+---+---+---+\n",
      "|  1|  2|  3|\n",
      "+---+---+---+\n",
      "\n"
     ]
    }
   ],
   "source": [
    "spark.sql('select 1,2,3').show()"
   ]
  },
  {
   "cell_type": "code",
   "execution_count": 14,
   "metadata": {},
   "outputs": [
    {
     "name": "stdout",
     "output_type": "stream",
     "text": [
      "+---+-------+----+-------+---+\n",
      "| id|country|hour|clicked| id|\n",
      "+---+-------+----+-------+---+\n",
      "|  1|     US|  18|    1.0|  1|\n",
      "|  1|     US|  18|    1.0|  2|\n",
      "|  2|    CA2|   5|    9.1|  1|\n",
      "|  2|    CA2|   5|    9.1|  2|\n",
      "+---+-------+----+-------+---+\n",
      "\n"
     ]
    }
   ],
   "source": [
    "A.crossJoin(A.select(\"id\")).show()"
   ]
  },
  {
   "cell_type": "code",
   "execution_count": null,
   "metadata": {},
   "outputs": [],
   "source": []
  }
 ],
 "metadata": {
  "kernelspec": {
   "display_name": "Python 3",
   "language": "python",
   "name": "python3"
  },
  "language_info": {
   "codemirror_mode": {
    "name": "ipython",
    "version": 3
   },
   "file_extension": ".py",
   "mimetype": "text/x-python",
   "name": "python",
   "nbconvert_exporter": "python",
   "pygments_lexer": "ipython3",
   "version": "3.6.8"
  }
 },
 "nbformat": 4,
 "nbformat_minor": 2
}
